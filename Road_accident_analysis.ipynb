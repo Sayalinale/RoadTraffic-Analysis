{
 "cells": [
  {
   "cell_type": "code",
   "execution_count": 29,
   "id": "3e3a0d5e",
   "metadata": {},
   "outputs": [],
   "source": [
    "import pandas as pd\n",
    "\n",
    "#data on github url\n",
    "url_accident = \"https://raw.githubusercontent.com/Sayalinale/RoadTraffic-Analysis/main/dft-road-casualty-statistics-accident-2021.csv\"\n",
    "url_casualty = \"https://raw.githubusercontent.com/Sayalinale/RoadTraffic-Analysis/main/dft-road-casualty-statistics-casualty-2021.csv\"\n",
    "url_vehicle = \"https://raw.githubusercontent.com/Sayalinale/RoadTraffic-Analysis/main/dft-road-casualty-statistics-vehicle-2021.csv\"\n",
    "\n",
    "# Load CSV files into Pandas DataFrames with low_memory=False\n",
    "df_accident_data = pd.read_csv(url_accident, low_memory=False)\n",
    "df_casualty_data = pd.read_csv(url_casualty, low_memory=False)\n",
    "df_vehicle_data = pd.read_csv(url_vehicle, low_memory=False)"
   ]
  },
  {
   "cell_type": "code",
   "execution_count": 30,
   "id": "2de00514",
   "metadata": {},
   "outputs": [
    {
     "data": {
      "text/plain": [
       "(101087, 36)"
      ]
     },
     "execution_count": 30,
     "metadata": {},
     "output_type": "execute_result"
    }
   ],
   "source": [
    "df_accident_data.shape"
   ]
  },
  {
   "cell_type": "code",
   "execution_count": 17,
   "id": "e29ed970",
   "metadata": {},
   "outputs": [
    {
     "name": "stdout",
     "output_type": "stream",
     "text": [
      "accident_index                                  0\n",
      "accident_year                                   0\n",
      "accident_reference                              0\n",
      "location_easting_osgr                          17\n",
      "location_northing_osgr                         17\n",
      "longitude                                      17\n",
      "latitude                                       17\n",
      "police_force                                    0\n",
      "accident_severity                               0\n",
      "number_of_vehicles                              0\n",
      "number_of_casualties                            0\n",
      "date                                            0\n",
      "day_of_week                                     0\n",
      "time                                            0\n",
      "local_authority_district                        0\n",
      "local_authority_ons_district                    0\n",
      "local_authority_highway                         0\n",
      "first_road_class                                0\n",
      "first_road_number                               0\n",
      "road_type                                       0\n",
      "speed_limit                                     0\n",
      "junction_detail                                 0\n",
      "junction_control                                0\n",
      "second_road_class                               0\n",
      "second_road_number                              0\n",
      "pedestrian_crossing_human_control               0\n",
      "pedestrian_crossing_physical_facilities         0\n",
      "light_conditions                                0\n",
      "weather_conditions                              0\n",
      "road_surface_conditions                         0\n",
      "special_conditions_at_site                      0\n",
      "carriageway_hazards                             0\n",
      "urban_or_rural_area                             0\n",
      "did_police_officer_attend_scene_of_accident     0\n",
      "trunk_road_flag                                 0\n",
      "trunk_road_flag.1                               0\n",
      "dtype: int64\n"
     ]
    }
   ],
   "source": [
    "# Check for null values in the merged DataFrame\n",
    "null_values = df_accident_data.isnull()\n",
    "\n",
    "# Count the number of null values in each column\n",
    "null_counts = null_values.sum()\n",
    "\n",
    "# Print the null counts\n",
    "print(null_counts)"
   ]
  },
  {
   "cell_type": "code",
   "execution_count": 18,
   "id": "8606a2d0",
   "metadata": {},
   "outputs": [
    {
     "data": {
      "text/plain": [
       "(128209, 19)"
      ]
     },
     "execution_count": 18,
     "metadata": {},
     "output_type": "execute_result"
    }
   ],
   "source": [
    "df_casualty_data.shape"
   ]
  },
  {
   "cell_type": "code",
   "execution_count": 19,
   "id": "0140ed12",
   "metadata": {},
   "outputs": [
    {
     "name": "stdout",
     "output_type": "stream",
     "text": [
      "accident_index                        0\n",
      "accident_year                         0\n",
      "accident_reference                    0\n",
      "vehicle_reference                     0\n",
      "casualty_reference                    0\n",
      "casualty_class                        0\n",
      "sex_of_casualty                       0\n",
      "age_of_casualty                       0\n",
      "age_band_of_casualty                  0\n",
      "casualty_severity                     0\n",
      "pedestrian_location                   0\n",
      "pedestrian_movement                   0\n",
      "car_passenger                         0\n",
      "bus_or_coach_passenger                0\n",
      "pedestrian_road_maintenance_worker    0\n",
      "casualty_type                         0\n",
      "casualty_home_area_type               0\n",
      "casualty_imd_decile                   0\n",
      "lsoa_of_casualty                      0\n",
      "dtype: int64\n"
     ]
    }
   ],
   "source": [
    "# Check for null values in the merged DataFrame\n",
    "null_values = df_casualty_data.isnull()\n",
    "\n",
    "# Count the number of null values in each column\n",
    "null_counts = null_values.sum()\n",
    "\n",
    "# Print the null counts\n",
    "print(null_counts)"
   ]
  },
  {
   "cell_type": "code",
   "execution_count": 20,
   "id": "8dab9e9c",
   "metadata": {},
   "outputs": [
    {
     "data": {
      "text/plain": [
       "(186443, 29)"
      ]
     },
     "execution_count": 20,
     "metadata": {},
     "output_type": "execute_result"
    }
   ],
   "source": [
    "df_vehicle_data.shape"
   ]
  },
  {
   "cell_type": "code",
   "execution_count": 21,
   "id": "abada30f",
   "metadata": {},
   "outputs": [
    {
     "name": "stdout",
     "output_type": "stream",
     "text": [
      "accident_index                             0\n",
      "accident_year                              0\n",
      "accident_reference                         0\n",
      "vehicle_reference                          0\n",
      "vehicle_type                               0\n",
      "towing_and_articulation                    0\n",
      "vehicle_manoeuvre                          0\n",
      "vehicle_direction_from                     0\n",
      "vehicle_direction_to                       0\n",
      "vehicle_location_restricted_lane           0\n",
      "vehicle_location_restricted_lane.1         0\n",
      "skidding_and_overturning                   0\n",
      "hit_object_in_carriageway                  0\n",
      "vehicle_leaving_carriageway                0\n",
      "hit_object_off_carriageway                 0\n",
      "first_point_of_impact                      0\n",
      "vehicle_left_hand_drive                    0\n",
      "journey_purpose_of_driver                  0\n",
      "sex_of_driver                              0\n",
      "age_of_driver                              0\n",
      "age_band_of_driver                         0\n",
      "engine_capacity_cc                         0\n",
      "propulsion_code                            0\n",
      "age_of_vehicle                             0\n",
      "generic_make_model                         0\n",
      "driver_imd_decile                          0\n",
      "driver_home_area_type                      0\n",
      "lsoa_of_driver                             0\n",
      "Unnamed: 28                           186443\n",
      "dtype: int64\n"
     ]
    }
   ],
   "source": [
    "# Check for null values in the merged DataFrame\n",
    "null_values = df_vehicle_data.isnull()\n",
    "\n",
    "# Count the number of null values in each column\n",
    "null_counts = null_values.sum()\n",
    "\n",
    "# Print the null counts\n",
    "print(null_counts)"
   ]
  },
  {
   "cell_type": "code",
   "execution_count": 22,
   "id": "ff3d4905",
   "metadata": {},
   "outputs": [],
   "source": [
    "# Merge the DataFrames on the 'accident_reference' column\n",
    "merged_data = pd.merge(df_accident_data, df_casualty_data, on='accident_reference')\n",
    "merged_data = pd.merge(merged_data, df_vehicle_data, on='accident_reference')\n",
    "\n",
    "# Now, 'merged_data' contains the merged data from all three DataFrames based on 'accident_reference'\n"
   ]
  },
  {
   "cell_type": "code",
   "execution_count": 31,
   "id": "1272bdc8",
   "metadata": {},
   "outputs": [
    {
     "name": "stdout",
     "output_type": "stream",
     "text": [
      "Index(['accident_index_x', 'accident_year_x', 'accident_reference',\n",
      "       'location_easting_osgr', 'location_northing_osgr', 'longitude',\n",
      "       'latitude', 'police_force', 'accident_severity', 'number_of_vehicles',\n",
      "       'number_of_casualties', 'date', 'day_of_week', 'time',\n",
      "       'local_authority_district', 'local_authority_ons_district',\n",
      "       'local_authority_highway', 'first_road_class', 'first_road_number',\n",
      "       'road_type', 'speed_limit', 'junction_detail', 'junction_control',\n",
      "       'second_road_class', 'second_road_number',\n",
      "       'pedestrian_crossing_human_control',\n",
      "       'pedestrian_crossing_physical_facilities', 'light_conditions',\n",
      "       'weather_conditions', 'road_surface_conditions',\n",
      "       'special_conditions_at_site', 'carriageway_hazards',\n",
      "       'urban_or_rural_area', 'did_police_officer_attend_scene_of_accident',\n",
      "       'trunk_road_flag', 'trunk_road_flag.1', 'accident_index_y',\n",
      "       'accident_year_y', 'vehicle_reference_x', 'casualty_reference',\n",
      "       'casualty_class', 'sex_of_casualty', 'age_of_casualty',\n",
      "       'age_band_of_casualty', 'casualty_severity', 'pedestrian_location',\n",
      "       'pedestrian_movement', 'car_passenger', 'bus_or_coach_passenger',\n",
      "       'pedestrian_road_maintenance_worker', 'casualty_type',\n",
      "       'casualty_home_area_type', 'casualty_imd_decile', 'lsoa_of_casualty',\n",
      "       'accident_index', 'accident_year', 'vehicle_reference_y',\n",
      "       'vehicle_type', 'towing_and_articulation', 'vehicle_manoeuvre',\n",
      "       'vehicle_direction_from', 'vehicle_direction_to',\n",
      "       'vehicle_location_restricted_lane',\n",
      "       'vehicle_location_restricted_lane.1', 'skidding_and_overturning',\n",
      "       'hit_object_in_carriageway', 'vehicle_leaving_carriageway',\n",
      "       'hit_object_off_carriageway', 'first_point_of_impact',\n",
      "       'vehicle_left_hand_drive', 'journey_purpose_of_driver', 'sex_of_driver',\n",
      "       'age_of_driver', 'age_band_of_driver', 'engine_capacity_cc',\n",
      "       'propulsion_code', 'age_of_vehicle', 'generic_make_model',\n",
      "       'driver_imd_decile', 'driver_home_area_type', 'lsoa_of_driver'],\n",
      "      dtype='object')\n",
      "(246314, 81)\n"
     ]
    }
   ],
   "source": [
    "print(merged_data.columns)\n",
    "print(merged_data.shape)"
   ]
  },
  {
   "cell_type": "code",
   "execution_count": 24,
   "id": "fd081121",
   "metadata": {},
   "outputs": [
    {
     "name": "stdout",
     "output_type": "stream",
     "text": [
      "Column 'accident_index_x': 0 missing values\n",
      "Column 'accident_year_x': 0 missing values\n",
      "Column 'accident_reference': 0 missing values\n",
      "Column 'location_easting_osgr': 43 missing values\n",
      "Column 'location_northing_osgr': 43 missing values\n",
      "Column 'longitude': 43 missing values\n",
      "Column 'latitude': 43 missing values\n",
      "Column 'police_force': 0 missing values\n",
      "Column 'accident_severity': 0 missing values\n",
      "Column 'number_of_vehicles': 0 missing values\n",
      "Column 'number_of_casualties': 0 missing values\n",
      "Column 'date': 0 missing values\n",
      "Column 'day_of_week': 0 missing values\n",
      "Column 'time': 0 missing values\n",
      "Column 'local_authority_district': 0 missing values\n",
      "Column 'local_authority_ons_district': 0 missing values\n",
      "Column 'local_authority_highway': 0 missing values\n",
      "Column 'first_road_class': 0 missing values\n",
      "Column 'first_road_number': 0 missing values\n",
      "Column 'road_type': 0 missing values\n",
      "Column 'speed_limit': 0 missing values\n",
      "Column 'junction_detail': 0 missing values\n",
      "Column 'junction_control': 0 missing values\n",
      "Column 'second_road_class': 0 missing values\n",
      "Column 'second_road_number': 0 missing values\n",
      "Column 'pedestrian_crossing_human_control': 0 missing values\n",
      "Column 'pedestrian_crossing_physical_facilities': 0 missing values\n",
      "Column 'light_conditions': 0 missing values\n",
      "Column 'weather_conditions': 0 missing values\n",
      "Column 'road_surface_conditions': 0 missing values\n",
      "Column 'special_conditions_at_site': 0 missing values\n",
      "Column 'carriageway_hazards': 0 missing values\n",
      "Column 'urban_or_rural_area': 0 missing values\n",
      "Column 'did_police_officer_attend_scene_of_accident': 0 missing values\n",
      "Column 'trunk_road_flag': 0 missing values\n",
      "Column 'trunk_road_flag.1': 0 missing values\n",
      "Column 'accident_index_y': 0 missing values\n",
      "Column 'accident_year_y': 0 missing values\n",
      "Column 'vehicle_reference_x': 0 missing values\n",
      "Column 'casualty_reference': 0 missing values\n",
      "Column 'casualty_class': 0 missing values\n",
      "Column 'sex_of_casualty': 0 missing values\n",
      "Column 'age_of_casualty': 0 missing values\n",
      "Column 'age_band_of_casualty': 0 missing values\n",
      "Column 'casualty_severity': 0 missing values\n",
      "Column 'pedestrian_location': 0 missing values\n",
      "Column 'pedestrian_movement': 0 missing values\n",
      "Column 'car_passenger': 0 missing values\n",
      "Column 'bus_or_coach_passenger': 0 missing values\n",
      "Column 'pedestrian_road_maintenance_worker': 0 missing values\n",
      "Column 'casualty_type': 0 missing values\n",
      "Column 'casualty_home_area_type': 0 missing values\n",
      "Column 'casualty_imd_decile': 0 missing values\n",
      "Column 'lsoa_of_casualty': 0 missing values\n",
      "Column 'accident_index': 0 missing values\n",
      "Column 'accident_year': 0 missing values\n",
      "Column 'vehicle_reference_y': 0 missing values\n",
      "Column 'vehicle_type': 0 missing values\n",
      "Column 'towing_and_articulation': 0 missing values\n",
      "Column 'vehicle_manoeuvre': 0 missing values\n",
      "Column 'vehicle_direction_from': 0 missing values\n",
      "Column 'vehicle_direction_to': 0 missing values\n",
      "Column 'vehicle_location_restricted_lane': 0 missing values\n",
      "Column 'vehicle_location_restricted_lane.1': 0 missing values\n",
      "Column 'skidding_and_overturning': 0 missing values\n",
      "Column 'hit_object_in_carriageway': 0 missing values\n",
      "Column 'vehicle_leaving_carriageway': 0 missing values\n",
      "Column 'hit_object_off_carriageway': 0 missing values\n",
      "Column 'first_point_of_impact': 0 missing values\n",
      "Column 'vehicle_left_hand_drive': 0 missing values\n",
      "Column 'journey_purpose_of_driver': 0 missing values\n",
      "Column 'sex_of_driver': 0 missing values\n",
      "Column 'age_of_driver': 0 missing values\n",
      "Column 'age_band_of_driver': 0 missing values\n",
      "Column 'engine_capacity_cc': 0 missing values\n",
      "Column 'propulsion_code': 0 missing values\n",
      "Column 'age_of_vehicle': 0 missing values\n",
      "Column 'generic_make_model': 0 missing values\n",
      "Column 'driver_imd_decile': 0 missing values\n",
      "Column 'driver_home_area_type': 0 missing values\n",
      "Column 'lsoa_of_driver': 0 missing values\n",
      "Column 'Unnamed: 28': 246314 missing values\n"
     ]
    }
   ],
   "source": [
    "# Check for null values in the merged DataFrame\n",
    "null_values = merged_data.isnull()\n",
    "\n",
    "# Count the number of null values in each column\n",
    "null_counts = null_values.sum()\n",
    "\n",
    "# Print the null counts for all columns\n",
    "for column, count in null_counts.items():\n",
    "    print(f\"Column '{column}': {count} missing values\")\n"
   ]
  },
  {
   "cell_type": "code",
   "execution_count": 25,
   "id": "5e224cc0",
   "metadata": {},
   "outputs": [],
   "source": [
    "merged_data = merged_data.drop(columns=['Unnamed: 28'])"
   ]
  },
  {
   "cell_type": "code",
   "execution_count": 28,
   "id": "2e99590b",
   "metadata": {},
   "outputs": [],
   "source": [
    "# Specify the file path where you want to save the CSV file\n",
    "file_path = 'D:/Sayali/Semester 3/Dataset/merged_dataset.csv'\n",
    "\n",
    "# Save the dataframe to a CSV file\n",
    "merged_data.to_csv(file_path, index=False)  # Setting index=False to exclude the index column in the saved CSV file\n"
   ]
  },
  {
   "cell_type": "code",
   "execution_count": 27,
   "id": "cbb4be66",
   "metadata": {},
   "outputs": [
    {
     "data": {
      "text/plain": [
       "(246314, 81)"
      ]
     },
     "execution_count": 27,
     "metadata": {},
     "output_type": "execute_result"
    }
   ],
   "source": [
    "merged_data.shape"
   ]
  },
  {
   "cell_type": "code",
   "execution_count": null,
   "id": "0b3594da",
   "metadata": {},
   "outputs": [],
   "source": []
  }
 ],
 "metadata": {
  "kernelspec": {
   "display_name": "Python 3 (ipykernel)",
   "language": "python",
   "name": "python3"
  },
  "language_info": {
   "codemirror_mode": {
    "name": "ipython",
    "version": 3
   },
   "file_extension": ".py",
   "mimetype": "text/x-python",
   "name": "python",
   "nbconvert_exporter": "python",
   "pygments_lexer": "ipython3",
   "version": "3.9.13"
  }
 },
 "nbformat": 4,
 "nbformat_minor": 5
}
